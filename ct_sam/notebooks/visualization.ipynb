{
 "cells": [
  {
   "cell_type": "markdown",
   "metadata": {
    "ExecutionIndicator": {
     "show": true
    },
    "tags": []
   },
   "source": [
    "# Full Image and Mask View"
   ]
  },
  {
   "cell_type": "code",
   "execution_count": 1,
   "metadata": {
    "tags": []
   },
   "outputs": [
    {
     "name": "stdout",
     "output_type": "stream",
     "text": [
      "2.4.1+cu121\n",
      "image loaded!\n"
     ]
    },
    {
     "data": {
      "text/html": [
       "<div />"
      ],
      "text/plain": [
       "<IPython.core.display.HTML object>"
      ]
     },
     "metadata": {},
     "output_type": "display_data"
    },
    {
     "data": {
      "application/javascript": "window.connectPlugin && window.connectPlugin(\"v2-61817vd3JEBuFWwz\")",
      "text/plain": [
       "<IPython.core.display.Javascript object>"
      ]
     },
     "metadata": {},
     "output_type": "display_data"
    },
    {
     "data": {
      "text/html": [
       "<div id=\"f410dc96-0785-4b52-a390-78a83d9d6ce6\"></div>"
      ],
      "text/plain": [
       "<IPython.core.display.HTML object>"
      ]
     },
     "metadata": {},
     "output_type": "display_data"
    },
    {
     "data": {
      "text/plain": [
       "<itkwidgets.viewer.Viewer at 0x7f684d590c10>"
      ]
     },
     "execution_count": 1,
     "metadata": {},
     "output_type": "execute_result"
    }
   ],
   "source": [
    "import SimpleITK as sitk\n",
    "import itkwidgets\n",
    "import torch\n",
    "print(torch.__version__)\n",
    "import numpy as np\n",
    "from itkwidgets import view\n",
    "\n",
    "from ct_sam.utils.frame import voxel_to_world\n",
    "from ct_sam.builder import build_sam\n",
    "from ct_sam.predictor import SamPredictor\n",
    "from ct_sam.utils.resample import flip_itkimage_torai, resample_itkimage_torai, crop_roi_with_center\n",
    "\n",
    "\n",
    "volume = \"BDMAP_00000005\"\n",
    "\n",
    "\n",
    "image = sitk.ReadImage(f\"/root/autodl-tmp/VISTA-AbdomenAtlasDemo/{volume}/ct.nii.gz\")\n",
    "image = resample_itkimage_torai(image, [1.5, 1.5, 1.5], \"linear\", -1024)\n",
    "\n",
    "mask_gt = None\n",
    "try:\n",
    "    mask_gt = sitk.ReadImage(f\"/root/CCVL/vista3d_bundle/eval/{volume}/predictions/liver.nii.gz\")\n",
    "    mask_gt = resample_itkimage_torai(mask_gt, [1.5, 1.5, 1.5], interpolator=\"nearest\", pad_value=0)\n",
    "\n",
    "except Exception as e:\n",
    "    print(f\"read mask failed: {e}\")\n",
    "\n",
    "\n",
    "def compute_dsc_np(predict, targets, threshold=0.0, smooth=1):\n",
    "    intersection = (predict * targets).sum()\n",
    "    dice = (2.0 * intersection + smooth) / (predict.sum() + targets.sum() + smooth)\n",
    "    return dice\n",
    "\n",
    "\n",
    "def show(image: sitk.Image, mask: sitk.Image = None, predictor: SamPredictor = None, predict_mode: str = \"patch\"):\n",
    "    image_np = sitk.GetArrayFromImage(image)\n",
    "    mask_np = None\n",
    "    if mask is not None:\n",
    "        mask_np = sitk.GetArrayFromImage(mask)\n",
    "    if predict_mode == \"patch\":\n",
    "        viewer = view(image_np, label_image=mask_np, gradient_opacity=0.4, \n",
    "                      shadow_enabled=False, annotations=False, cmap=\"Grayscale\", \n",
    "                      view_mode='Volume', sample_distance=0.5, blend_mode=\"Composite\", predictor=predictor)\n",
    "    elif predict_mode == \"full_image\":\n",
    "        viewer = view(image_np, label_image=mask_np, gradient_opacity=0.4, \n",
    "                      shadow_enabled=False, annotations=False, cmap=\"Grayscale\", \n",
    "                      view_mode='Volume', sample_distance=0.5, blend_mode=\"Composite\", predictor=predictor, predict_mode=predict_mode, image_itk=image)\n",
    "    else:\n",
    "        raise ValueError(\"NotImplemented\")\n",
    "    return viewer\n",
    "\n",
    "print(\"image loaded!\")\n",
    "show(image, mask_gt)"
   ]
  },
  {
   "cell_type": "markdown",
   "metadata": {},
   "source": [
    "# Load Model Weights"
   ]
  },
  {
   "cell_type": "code",
   "execution_count": 2,
   "metadata": {
    "ExecutionIndicator": {
     "show": false
    },
    "tags": []
   },
   "outputs": [
    {
     "name": "stdout",
     "output_type": "stream",
     "text": [
      "CPU times: user 3 µs, sys: 1e+03 ns, total: 4 µs\n",
      "Wall time: 8.11 µs\n"
     ]
    },
    {
     "name": "stderr",
     "output_type": "stream",
     "text": [
      "You are using `torch.load` with `weights_only=False` (the current default value), which uses the default pickle module implicitly. It is possible to construct malicious pickle data which will execute arbitrary code during unpickling (See https://github.com/pytorch/pytorch/blob/main/SECURITY.md#untrusted-models for more details). In a future release, the default value for `weights_only` will be flipped to `True`. This limits the functions that could be executed during unpickling. Arbitrary objects will no longer be allowed to be loaded via this mode unless they are explicitly allowlisted by the user via `torch.serialization.add_safe_globals`. We recommend you start setting `weights_only=True` for any use case where you don't have full control of the loaded file. Please open an issue on GitHub for any issues related to this experimental feature.\n"
     ]
    },
    {
     "name": "stdout",
     "output_type": "stream",
     "text": [
      "predictor device:  cuda:0\n"
     ]
    }
   ],
   "source": [
    "%time\n",
    "import os\n",
    "import numpy as np\n",
    "from ct_sam.utils.io_utils import load_module_from_file\n",
    "\n",
    "checkpoint = \"/root/CCVL/ct-sam3d/ct_sam/models/params.pth\"\n",
    "\n",
    "config_file = os.path.join(os.path.dirname(checkpoint), \"config.py\")\n",
    "assert os.path.isfile(config_file), \"file config.py not found!\"\n",
    "cfg_module = load_module_from_file(config_file)\n",
    "cfg = cfg_module.cfg\n",
    "\n",
    "cfg.update({\"checkpoint\": checkpoint})\n",
    "sam = build_sam(cfg)\n",
    "if torch.cuda.is_available():\n",
    "    sam.cuda()\n",
    "predictor = SamPredictor(sam, cfg.dataset)\n",
    "print(\"predictor device: \", predictor.device)\n"
   ]
  },
  {
   "cell_type": "markdown",
   "metadata": {},
   "source": [
    "# Crop and Patch Interaction"
   ]
  },
  {
   "cell_type": "code",
   "execution_count": 3,
   "metadata": {
    "tags": []
   },
   "outputs": [
    {
     "name": "stdout",
     "output_type": "stream",
     "text": [
      "mask cropped!\n",
      "image cropped!\n"
     ]
    },
    {
     "name": "stdout",
     "output_type": "stream",
     "text": [
      "full image size:  (267, 267, 271) | patch size:  (64, 64, 64)\n"
     ]
    }
   ],
   "source": [
    "crop = True\n",
    "if crop:\n",
    "    center_v = [68, 134, 92]\n",
    "    center_w = voxel_to_world(image, center_v)\n",
    "    x_axis, y_axis, z_axis = np.array(image.GetDirection()).reshape(3, 3).transpose()\n",
    "    image_patch = crop_roi_with_center(image, center_w, image.GetSpacing(), x_axis, y_axis, z_axis, [64, 64, 64], \"linear\", -1024)\n",
    "    \n",
    "    if mask_gt is not None:\n",
    "        mask_gt_patch = crop_roi_with_center(mask_gt, center_w, mask_gt.GetSpacing(), x_axis, y_axis, z_axis, [64, 64, 64], \"nearest\", 0)\n",
    "        mask_gt_patch = sitk.GetArrayFromImage(mask_gt_patch).astype(np.int32)\n",
    "        print(\"mask cropped!\")\n",
    "    \n",
    "    print(\"image cropped!\")\n",
    "\n",
    "predictor.set_image(image_patch)\n",
    "\n",
    "full_size = image.GetSize()\n",
    "patch_size = image_patch.GetSize()\n",
    "print(\"full image size: \", full_size, \"| patch size: \", patch_size)"
   ]
  },
  {
   "cell_type": "code",
   "execution_count": 4,
   "metadata": {
    "tags": []
   },
   "outputs": [
    {
     "data": {
      "text/html": [
       "<div />"
      ],
      "text/plain": [
       "<IPython.core.display.HTML object>"
      ]
     },
     "metadata": {},
     "output_type": "display_data"
    },
    {
     "data": {
      "application/javascript": "window.connectPlugin && window.connectPlugin(\"v2-61817vd3JEBuFWwz\")",
      "text/plain": [
       "<IPython.core.display.Javascript object>"
      ]
     },
     "metadata": {},
     "output_type": "display_data"
    },
    {
     "data": {
      "text/html": [
       "<div id=\"a348f795-a3e6-42bb-ab48-64fea0bbab12\"></div>"
      ],
      "text/plain": [
       "<IPython.core.display.HTML object>"
      ]
     },
     "metadata": {},
     "output_type": "display_data"
    },
    {
     "data": {
      "application/vnd.jupyter.widget-view+json": {
       "model_id": "bf887c9c1abc4561886604ebf589d7fa",
       "version_major": 2,
       "version_minor": 0
      },
      "text/plain": [
       "VBox(children=(HBox(children=(Button(button_style='primary', description='Add', style=ButtonStyle()), Button(b…"
      ]
     },
     "metadata": {},
     "output_type": "display_data"
    },
    {
     "data": {
      "application/vnd.jupyter.widget-view+json": {
       "model_id": "efb5a89e720e44c7ac83c016671a5a10",
       "version_major": 2,
       "version_minor": 0
      },
      "text/plain": [
       "Output()"
      ]
     },
     "metadata": {},
     "output_type": "display_data"
    }
   ],
   "source": [
    "from ipywidgets import interact_manual, widgets, interactive_output, Button, VBox, HBox\n",
    "from IPython.display import display\n",
    "import numpy as np\n",
    "\n",
    "box = VBox()\n",
    "\n",
    "def get_axis_widget(axis=\"X\", max=256):\n",
    "    slider = widgets.IntSlider(min=0, max=max, step=1, value=max//2)\n",
    "    text = widgets.BoundedIntText(value=slider.value, min=0, max=max, step=1)\n",
    "\n",
    "    def update_slider(change):\n",
    "        slider.value = change.new\n",
    "\n",
    "    def update_text(change):\n",
    "        text.value = change.new\n",
    "\n",
    "    text.observe(update_slider, names=\"value\")\n",
    "    slider.observe(update_text, names=\"value\")\n",
    "    widget = widgets.HBox([widgets.Label(value=f'{axis} '), slider, text])\n",
    "    return widget\n",
    "\n",
    "\n",
    "def get_point_widget(size):\n",
    "    x = widgets.BoundedIntText(value=size[0]//2, min=0, max=size[0]-1, step=1, description=\"X\", layout={'width': '200px'})\n",
    "    y = widgets.BoundedIntText(value=size[1]//2, min=0, max=size[1]-1, step=1, description=\"Y\", layout={'width': '200px'})\n",
    "    z = widgets.BoundedIntText(value=size[2]//2, min=0, max=size[2]-1, step=1, description=\"Z\", layout={'width': '200px'})\n",
    "    label = widgets.BoundedIntText(value=1, min=0, max=1, step=1, description=\"Label\", layout={'width': '200px'})\n",
    "    widget = HBox([x, y, z, label])\n",
    "    return widget\n",
    "\n",
    "\n",
    "def add_button_click(button):\n",
    "    input_box = HBox()\n",
    "    input_box.children = [get_point_widget(patch_size)]\n",
    "    delete_button = Button(description='Delete', button_style=\"danger\")\n",
    "    delete_button.on_click(lambda button: delete_input_box(input_box))\n",
    "    input_box.children += (delete_button,)\n",
    "    box.children += (input_box,)\n",
    "\n",
    "\n",
    "def delete_input_box(input_box):\n",
    "    children_list = list(box.children)\n",
    "    children_list.remove(input_box)\n",
    "    box.children = tuple(children_list)\n",
    "    display(box)\n",
    "\n",
    "\n",
    "def prompt(viewer, points, labels):\n",
    "    global mask_input, mask_gt_patch, predictor\n",
    "    mask, scores, logits = predictor.predict(\n",
    "        point_coords=points,\n",
    "        point_labels=labels,\n",
    "        multimask_output=False,\n",
    "        mask_input=mask_input,\n",
    "    )\n",
    "    # any mask should also be converted into RAI orientation for visualization\n",
    "    # mask = flip_itkimage_torai(mask, interpolator=\"nearest\", pad_value=0)\n",
    "    mask_input = logits\n",
    "    msg = f\"Prompt point: {points, labels}, Mask size: {mask.GetSize()}\"\n",
    "    \n",
    "    if mask_gt is not None:\n",
    "        p = points[0]\n",
    "        target_label = mask_gt_patch[p[2], p[1], p[0]]\n",
    "        mask_gt_bin = mask_gt_patch == target_label\n",
    "        \n",
    "        dsc = compute_dsc_np(sitk.GetArrayFromImage(mask), mask_gt_bin)\n",
    "        msg += f\", DSC: {dsc:.4f}\"\n",
    "    \n",
    "    print(msg)\n",
    "    viewer.set_label_image(sitk.GetArrayFromImage(mask))\n",
    "    return viewer\n",
    "\n",
    "\n",
    "def clear_button_click(button):\n",
    "    global viewer, mask_input\n",
    "    with out:\n",
    "        mask_input = None\n",
    "        viewer.points.clear()\n",
    "        viewer.labels.clear()\n",
    "        viewer.mask_input = None\n",
    "        empty_mask = np.zeros(patch_size)\n",
    "        viewer.set_label_image(empty_mask)\n",
    "        print(\"Mask cleared!\")\n",
    "\n",
    "\n",
    "out = widgets.Output()\n",
    "\n",
    "# any image should be converted into RAI orientation for visualization\n",
    "# image = flip_itkimage_torai(image, interpolator=\"linear\", pad_value=-1024)\n",
    "viewer = show(image_patch, predictor=predictor)\n",
    "mask_input = None\n",
    "\n",
    "def run_button_click(button):\n",
    "    with out:\n",
    "        points = []\n",
    "        labels = []\n",
    "        if len(box.children[1:]) == 0:\n",
    "            print(\"Please add prompt point first!\")\n",
    "        else:\n",
    "            for c in box.children[1:]:\n",
    "                points.append([c.children[0].children[0].value, c.children[0].children[1].value, c.children[0].children[2].value])\n",
    "                labels.append(c.children[0].children[3].value)\n",
    "            points = np.array(points)\n",
    "            labels = np.array(labels)\n",
    "            prompt(viewer, points, labels)\n",
    "\n",
    "add_button = Button(description=\"Add\", button_style=\"primary\")\n",
    "run_button = Button(description=\"Run\", button_style=\"success\")\n",
    "clear_button = Button(description=\"Clear\", button_style=\"warning\")\n",
    "add_button.on_click(add_button_click)\n",
    "run_button.on_click(run_button_click)\n",
    "clear_button.on_click(clear_button_click)\n",
    "\n",
    "box.children += (HBox([add_button, clear_button, run_button]), )\n",
    "\n",
    "display(box, out)\n"
   ]
  },
  {
   "cell_type": "markdown",
   "metadata": {},
   "source": [
    "# Full Image Interaction"
   ]
  },
  {
   "cell_type": "code",
   "execution_count": 5,
   "metadata": {
    "tags": []
   },
   "outputs": [
    {
     "data": {
      "text/html": [
       "<div />"
      ],
      "text/plain": [
       "<IPython.core.display.HTML object>"
      ]
     },
     "metadata": {},
     "output_type": "display_data"
    },
    {
     "data": {
      "application/javascript": "window.connectPlugin && window.connectPlugin(\"v2-61817vd3JEBuFWwz\")",
      "text/plain": [
       "<IPython.core.display.Javascript object>"
      ]
     },
     "metadata": {},
     "output_type": "display_data"
    },
    {
     "data": {
      "text/html": [
       "<div id=\"8c6967c0-1f65-4d9f-b3bd-1bfa6dcdaab2\"></div>"
      ],
      "text/plain": [
       "<IPython.core.display.HTML object>"
      ]
     },
     "metadata": {},
     "output_type": "display_data"
    },
    {
     "data": {
      "application/vnd.jupyter.widget-view+json": {
       "model_id": "0daa676ebc3c4a569c907ef156a9bc6e",
       "version_major": 2,
       "version_minor": 0
      },
      "text/plain": [
       "VBox(children=(HBox(children=(Button(button_style='warning', description='Clear', style=ButtonStyle()),)),))"
      ]
     },
     "metadata": {},
     "output_type": "display_data"
    },
    {
     "data": {
      "application/vnd.jupyter.widget-view+json": {
       "model_id": "e0531d1792764baea2aa57ce91705232",
       "version_major": 2,
       "version_minor": 0
      },
      "text/plain": [
       "Output()"
      ]
     },
     "metadata": {},
     "output_type": "display_data"
    }
   ],
   "source": [
    "from ipywidgets import interact_manual, widgets, interactive_output, Button, VBox, HBox\n",
    "from IPython.display import display\n",
    "import numpy as np\n",
    "\n",
    "box = VBox()\n",
    "out = widgets.Output()\n",
    "\n",
    "\n",
    "def clear_button_click(button):\n",
    "    global viewer, mask_input\n",
    "    with out:\n",
    "        viewer.points.clear()\n",
    "        viewer.labels.clear()\n",
    "        viewer.mask_input = None\n",
    "        viewer.image_patch = None\n",
    "        viewer.patch_anchor = None\n",
    "        viewer.mask = np.zeros(image.GetSize()[::-1])\n",
    "        viewer.set_label_image(viewer.mask)\n",
    "        print(\"Mask cleared!\")\n",
    "\n",
    "# any image should be converted into RAI orientation for visualization\n",
    "# image = flip_itkimage_torai(image, interpolator=\"linear\", pad_value=-1024)\n",
    "viewer = show(image, predictor=predictor, predict_mode=\"full_image\")\n",
    "clear_button = Button(description=\"Clear\", button_style=\"warning\")\n",
    "clear_button.on_click(clear_button_click)\n",
    "box.children += (HBox([clear_button]), )\n",
    "display(box, out)\n"
   ]
  },
  {
   "cell_type": "code",
   "execution_count": null,
   "metadata": {},
   "outputs": [],
   "source": []
  }
 ],
 "metadata": {
  "kernelspec": {
   "display_name": "ctsam3d",
   "language": "python",
   "name": "python3"
  },
  "language_info": {
   "codemirror_mode": {
    "name": "ipython",
    "version": 3
   },
   "file_extension": ".py",
   "mimetype": "text/x-python",
   "name": "python",
   "nbconvert_exporter": "python",
   "pygments_lexer": "ipython3",
   "version": "3.8.10"
  }
 },
 "nbformat": 4,
 "nbformat_minor": 4
}
