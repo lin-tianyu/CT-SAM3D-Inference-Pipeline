{
 "cells": [
  {
   "cell_type": "markdown",
   "metadata": {},
   "source": [
    "# Load Model Weights"
   ]
  },
  {
   "cell_type": "code",
   "execution_count": 1,
   "metadata": {
    "ExecutionIndicator": {
     "show": false
    },
    "tags": []
   },
   "outputs": [
    {
     "name": "stdout",
     "output_type": "stream",
     "text": [
      "CPU times: user 3 µs, sys: 0 ns, total: 3 µs\n",
      "Wall time: 5.72 µs\n",
      "2.4.1+cu121\n"
     ]
    },
    {
     "name": "stderr",
     "output_type": "stream",
     "text": [
      "You are using `torch.load` with `weights_only=False` (the current default value), which uses the default pickle module implicitly. It is possible to construct malicious pickle data which will execute arbitrary code during unpickling (See https://github.com/pytorch/pytorch/blob/main/SECURITY.md#untrusted-models for more details). In a future release, the default value for `weights_only` will be flipped to `True`. This limits the functions that could be executed during unpickling. Arbitrary objects will no longer be allowed to be loaded via this mode unless they are explicitly allowlisted by the user via `torch.serialization.add_safe_globals`. We recommend you start setting `weights_only=True` for any use case where you don't have full control of the loaded file. Please open an issue on GitHub for any issues related to this experimental feature.\n"
     ]
    },
    {
     "name": "stdout",
     "output_type": "stream",
     "text": [
      "predictor device:  cuda:0\n"
     ]
    }
   ],
   "source": [
    "%time\n",
    "import os\n",
    "import numpy as np\n",
    "\n",
    "from ct_sam.utils.io_utils import load_module_from_file\n",
    "from ct_sam.builder import build_sam\n",
    "from ct_sam.predictor import SamPredictor\n",
    "\n",
    "import torch\n",
    "print(torch.__version__)\n",
    "\n",
    "\n",
    "checkpoint = \"/root/CCVL/ct-sam3d/ct_sam/models/params.pth\"\n",
    "\n",
    "config_file = os.path.join(os.path.dirname(checkpoint), \"config.py\")\n",
    "assert os.path.isfile(config_file), \"file config.py not found!\"\n",
    "cfg_module = load_module_from_file(config_file)\n",
    "cfg = cfg_module.cfg\n",
    "\n",
    "cfg.update({\"checkpoint\": checkpoint})\n",
    "sam = build_sam(cfg)\n",
    "if torch.cuda.is_available():\n",
    "    sam.cuda()\n",
    "predictor = SamPredictor(sam, cfg.dataset)\n",
    "print(\"predictor device: \", predictor.device)\n"
   ]
  },
  {
   "cell_type": "markdown",
   "metadata": {
    "ExecutionIndicator": {
     "show": true
    },
    "tags": []
   },
   "source": [
    "# Full Image and Mask View"
   ]
  },
  {
   "cell_type": "code",
   "execution_count": 4,
   "metadata": {
    "tags": []
   },
   "outputs": [],
   "source": [
    "\"\"\"postprocessed data\n",
    "    1. /root/autodl-tmp/AbdomenAtlasDemoPredictDAPpostprocessed\n",
    "    2. /root/autodl-tmp/AbdomenAtlasDemoPredictSourceDAPpostprocessed\n",
    "\"\"\"\n",
    "import SimpleITK as sitk\n",
    "import itkwidgets\n",
    "from itkwidgets import view\n",
    "from tqdm import tqdm\n",
    "from scipy import ndimage\n",
    "\n",
    "from ct_sam.utils.frame import voxel_to_world\n",
    "from ct_sam.utils.resample import flip_itkimage_torai, resample_itkimage_torai, crop_roi_with_center, resample_itkimage_withspacing\n",
    "\n",
    "\n",
    "CT_INPUT_DIR = \"/root/autodl-tmp/VISTA-AbdomenAtlasDemo\"\n",
    "PSEUDO_INPUT_DIR = \"/root/autodl-tmp/AbdomenAtlasDemoPredictDAPpostprocessed\"\n",
    "OUTPUT_DIR = \"/root/autodl-tmp/AbdomenAtlasDemoPredictCTSAM3D\"\n",
    "\n",
    "if not os.path.exists(OUTPUT_DIR):\n",
    "    os.mkdir(OUTPUT_DIR)\n",
    "\n",
    "ALL_TARGET =[f\"L{idx}\" for idx in range(5, 0, -1)] + \\\n",
    "             [f\"T{idx}\" for idx in range(12, 0, -1)] + \\\n",
    "            [f\"C{idx}\" for idx in range(7, 0, -1)]  # L-5 + T-12 + C-7\n",
    "\n",
    "target_labels = [i for i in range(66, 42, -1)]\n",
    "num_samples = 1\n",
    "\n",
    "\n",
    "def compute_dsc_np(predict, targets, threshold=0.0, smooth=1):\n",
    "    intersection = (predict * targets).sum()\n",
    "    dice = (2.0 * intersection + smooth) / (predict.sum() + targets.sum() + smooth)\n",
    "    return dice\n"
   ]
  },
  {
   "cell_type": "markdown",
   "metadata": {},
   "source": [
    "# Crop and Patch Interaction"
   ]
  },
  {
   "cell_type": "code",
   "execution_count": 5,
   "metadata": {},
   "outputs": [
    {
     "name": "stderr",
     "output_type": "stream",
     "text": [
      "Predicting BDMAP_00000001: 100%|██████████| 24/24 [00:10<00:00,  2.25it/s]\n",
      "Saving: 100%|██████████| 24/24 [00:04<00:00,  5.02it/s]\n",
      "Predicting BDMAP_00000005: 100%|██████████| 24/24 [00:04<00:00,  5.04it/s, empty_class=[54, 53, 52, 51, 50, 49, 48, 47, 46, 45, 44, 43]]\n",
      "Saving: 100%|██████████| 24/24 [00:07<00:00,  3.15it/s]\n",
      "Predicting BDMAP_00000006: 100%|██████████| 24/24 [00:13<00:00,  1.80it/s]\n",
      "Saving: 100%|██████████| 24/24 [00:06<00:00,  3.46it/s]\n",
      "Predicting BDMAP_00000010: 100%|██████████| 24/24 [00:26<00:00,  1.12s/it]\n",
      "Saving: 100%|██████████| 24/24 [00:10<00:00,  2.27it/s]\n",
      "Predicting BDMAP_00000012: 100%|██████████| 24/24 [00:02<00:00,  8.40it/s, empty_class=[56, 55, 54, 53, 52, 51, 50, 49, 48, 47, 46, 45, 44, 43]]\n",
      "Saving: 100%|██████████| 24/24 [00:08<00:00,  2.92it/s]\n",
      "Predicting BDMAP_00000019: 100%|██████████| 24/24 [00:02<00:00,  8.21it/s, empty_class=[56, 55, 54, 53, 52, 51, 50, 49, 48, 47, 46, 45, 44, 43]]\n",
      "Saving: 100%|██████████| 24/24 [00:07<00:00,  3.28it/s]\n",
      "Predicting BDMAP_00000022: 100%|██████████| 24/24 [00:03<00:00,  6.44it/s, empty_class=[54, 53, 52, 51, 50, 49, 48, 47, 46, 45, 44, 43]]\n",
      "Saving: 100%|██████████| 24/24 [00:08<00:00,  2.85it/s]\n",
      "Predicting BDMAP_00000026: 100%|██████████| 24/24 [00:07<00:00,  3.42it/s, empty_class=[49, 47, 46, 45, 44, 43]]\n",
      "Saving: 100%|██████████| 24/24 [00:07<00:00,  3.13it/s]\n",
      "Predicting BDMAP_00000031: 100%|██████████| 24/24 [00:14<00:00,  1.68it/s]\n",
      "Saving: 100%|██████████| 24/24 [00:22<00:00,  1.07it/s]\n"
     ]
    }
   ],
   "source": [
    "\n",
    "\n",
    "\n",
    "volumes = [\"BDMAP_000000\" + num for num in [\"01\", \"05\", \"06\", \"10\", \"12\", \"19\", \"22\", \"26\", \"31\"]] \n",
    "# volume = \"BDMAP_00000012\"\n",
    "for volume in volumes:\n",
    "\n",
    "    if not os.path.exists(os.path.join(OUTPUT_DIR, f\"{volume}\")):\n",
    "        os.mkdir(os.path.join(OUTPUT_DIR, f\"{volume}\"))\n",
    "        os.mkdir(os.path.join(OUTPUT_DIR, f\"{volume}\", \"segmentations\"))\n",
    "\n",
    "    image_raw = sitk.ReadImage(f\"{CT_INPUT_DIR}/{volume}/ct.nii.gz\")   # H W C\n",
    "    image = resample_itkimage_torai(image_raw, [1.5, 1.5, 1.5], \"linear\", -1024)    # C H W\n",
    "\n",
    "    mask_gt = None\n",
    "    try:\n",
    "        mask_gt_raw = sitk.ReadImage(f\"{PSEUDO_INPUT_DIR}/{volume}.nii.gz\") # H W C\n",
    "        mask_gt = resample_itkimage_torai(mask_gt_raw, [1.5, 1.5, 1.5], interpolator=\"nearest\", pad_value=0)    # C H W\n",
    "\n",
    "    except Exception as e:\n",
    "        print(f\"read mask failed: {e}\")\n",
    "\n",
    "\n",
    "    mask_pred_list = list()\n",
    "    empty_class = list()\n",
    "    pbar = tqdm(enumerate(target_labels), total=len(target_labels), desc=f\"Predicting {volume}\")\n",
    "    for idx, target_label in pbar:\n",
    "        # Prepare an empty volume to store predictions\n",
    "        mask_pred = np.zeros_like(sitk.GetArrayFromImage(mask_gt))  # c h w\n",
    "        mask_pred = sitk.GetImageFromArray(mask_pred)   # w h c\n",
    "        mask_pred.CopyInformation(mask_gt)\n",
    "\n",
    "        # Preprocess: sample point prompt and crop a roi for input\n",
    "        mask_gt_coord = np.argwhere(sitk.GetArrayFromImage(mask_gt).transpose((2, 1, 0)) == target_label)   # c h w\n",
    "        try:\n",
    "            assert len(mask_gt_coord) > 0\n",
    "            # random_point = mask_gt_coord[np.random.choice(len(mask_gt_coord))]\n",
    "            random_point = np.rint(mask_gt_coord.mean(0)).astype(np.int32)\n",
    "            # random_point = (mask_gt_coord.max(0) + mask_gt_coord.min(0)) // 2\n",
    "        except AssertionError:\n",
    "            empty_class.append(target_label)\n",
    "            mask_pred_list.append(mask_pred)\n",
    "            pbar.set_postfix(dict(empty_class=empty_class))\n",
    "            continue\n",
    "        center_v = random_point\n",
    "        center_w = voxel_to_world(image, center_v)\n",
    "        x_axis, y_axis, z_axis = np.array(image.GetDirection()).reshape(3, 3).transpose()\n",
    "        image_patch = crop_roi_with_center(image, center_w, image.GetSpacing(), x_axis, y_axis, z_axis, [64, 64, 64], \"linear\", -1024)\n",
    "\n",
    "        if mask_gt is not None:\n",
    "            mask_gt_patch = crop_roi_with_center(mask_gt, center_w, mask_gt.GetSpacing(), x_axis, y_axis, z_axis, [64, 64, 64], \"nearest\", 0)\n",
    "            mask_gt_patch = sitk.GetArrayFromImage(mask_gt_patch).astype(np.int32).transpose((2, 1, 0))  # c h w\n",
    "\n",
    "        # Inference: set the image and make predictions\n",
    "        predictor.set_image(image_patch)\n",
    "\n",
    "        # sample point prompt(s) from interior mask\n",
    "        distance = ndimage.distance_transform_edt(mask_gt_patch == target_label)    # Step 1: Compute the distance transform of the mask\n",
    "        threshold = 0.5 * distance.max()    # Step 2: Define a threshold to exclude surface points\n",
    "        interior_mask = distance >= threshold   # Step 3: Create a mask of interior points based on the distance threshold\n",
    "        interior_coords = np.argwhere(interior_mask)    # Step 4: Get the coordinates of the interior points\n",
    "        points = interior_coords[np.random.choice(len(interior_coords), size=num_samples)]\n",
    "        labels = np.array([1] * num_samples)\n",
    "\n",
    "        mask_input = None\n",
    "\n",
    "        mask, scores, logits = predictor.predict(\n",
    "            point_coords=points,\n",
    "            point_labels=labels,\n",
    "            multimask_output=False,\n",
    "            mask_input=mask_input,\n",
    "        )\n",
    "\n",
    "        # Postprocess: reset the image and save nifti\n",
    "        min_p = random_point - 32\n",
    "        min_m = 0 - min_p\n",
    "        min_m[min_m < 0] = 0\n",
    "        min_p[min_p < 0] = 0\n",
    "\n",
    "        max_p = random_point + 32\n",
    "        max_m = max_p - mask_gt.GetSize()\n",
    "        max_m[max_m < 0] = 0\n",
    "        max_m = 64 - max_m\n",
    "        \n",
    "        mask_pred[min_p[0]:max_p[0], min_p[1]:max_p[1], min_p[2]:max_p[2]] = (idx+1) * \\\n",
    "            mask[min_m[0]:max_m[0], min_m[1]:max_m[1], min_m[2]:max_m[2]]\n",
    "\n",
    "        mask_pred_list.append(mask_pred)\n",
    "        # pbar.update()\n",
    "\n",
    "    # saving results for each class\n",
    "    for idx in tqdm(range(24), desc=\"Saving\"):\n",
    "        mask_pred = sitk.Resample(mask_pred_list[idx], mask_gt_raw, sitk.Transform(), sitk.sitkNearestNeighbor, 0.0, mask_pred_list[idx].GetPixelID())\n",
    "        sitk.WriteImage(mask_pred, os.path.join(OUTPUT_DIR, f\"{volume}\", f\"segmentations\", f\"vertebrae_{ALL_TARGET[idx]}.nii.gz\"))\n",
    "\n",
    "    # saving combined labels (WARNING: risk of overlap predictions)\n",
    "    mask_pred = sum(mask_pred_list)\n",
    "    mask_pred = sitk.Resample(mask_pred, mask_gt_raw, sitk.Transform(), sitk.sitkNearestNeighbor, 0.0, mask_pred.GetPixelID())\n",
    "    sitk.WriteImage(mask_pred, os.path.join(OUTPUT_DIR, f\"{volume}\", f\"combined_labels.nii.gz\"))"
   ]
  }
 ],
 "metadata": {
  "kernelspec": {
   "display_name": "ctsam3d",
   "language": "python",
   "name": "python3"
  },
  "language_info": {
   "codemirror_mode": {
    "name": "ipython",
    "version": 3
   },
   "file_extension": ".py",
   "mimetype": "text/x-python",
   "name": "python",
   "nbconvert_exporter": "python",
   "pygments_lexer": "ipython3",
   "version": "3.8.10"
  }
 },
 "nbformat": 4,
 "nbformat_minor": 4
}
